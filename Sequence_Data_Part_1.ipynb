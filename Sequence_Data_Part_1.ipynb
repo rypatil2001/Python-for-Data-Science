{
 "cells": [
  {
   "cell_type": "markdown",
   "id": "0a3f427d",
   "metadata": {},
   "source": [
    "@author : Raj Patil"
   ]
  },
  {
   "cell_type": "markdown",
   "id": "64dd2d75",
   "metadata": {},
   "source": [
    "# Sequence object Initialization"
   ]
  },
  {
   "cell_type": "markdown",
   "id": "bdeaa9ff",
   "metadata": {},
   "source": [
    "1. Sequences allow you to store multiple values in an organized and efficient fashion\n",
    "\n",
    "2. There are several sequence types: strings, Unidode strings, lists, tuples, arrays and range objects\n",
    "\n",
    "3. Dictionaries and sets are containers for non-sequential data"
   ]
  },
  {
   "cell_type": "markdown",
   "id": "37025626",
   "metadata": {},
   "source": [
    "• Strings - Sequence of characters - \" (or)'\n",
    "\n",
    "• Tuples - Sequence of compound data - ()\n",
    "\n",
    "• Lists - Sequence of multi-data type objects - []\n",
    "\n",
    "• Arrays - Sequence of constrained list of objects (all objects of same datatype) using array module from array\n",
    "\n",
    "• Dictionary- Sequence of key-value pairs - {}\n",
    "\n",
    "• Sets - Sequence of unordered collection of unique data\n",
    "\n",
    "• Range - Used for looping-using built-in range()"
   ]
  },
  {
   "cell_type": "markdown",
   "id": "849574d0",
   "metadata": {},
   "source": [
    "These can offer unique functionalities for the variables to contain and handle more than one data datatype at a time. Supports operations such as indexing, slicing, concatenation, multiplication etc.,"
   ]
  },
  {
   "cell_type": "markdown",
   "id": "ea8b16eb",
   "metadata": {},
   "source": [
    "# Sequence object initialization"
   ]
  },
  {
   "cell_type": "markdown",
   "id": "14dc6826",
   "metadata": {},
   "source": [
    "## String"
   ]
  },
  {
   "cell_type": "code",
   "execution_count": 2,
   "id": "c900bc28",
   "metadata": {},
   "outputs": [
    {
     "name": "stdout",
     "output_type": "stream",
     "text": [
      "LEARNING\n"
     ]
    }
   ],
   "source": [
    "strng = 'LEARNING'       # String\n",
    "print(strng)"
   ]
  },
  {
   "cell_type": "markdown",
   "id": "85c6f367",
   "metadata": {},
   "source": [
    "## List"
   ]
  },
  {
   "cell_type": "code",
   "execution_count": 1,
   "id": "efab5500",
   "metadata": {},
   "outputs": [
    {
     "name": "stdout",
     "output_type": "stream",
     "text": [
      "[1, 2, 3, 4, 5, 6, 7, 8, 9]\n"
     ]
    }
   ],
   "source": [
    "ListNumbers = [1,2,3,4,5,6,7,8,9]  # list with numbers\n",
    "print(ListNumbers)                 # (having Duplicate values)"
   ]
  },
  {
   "cell_type": "code",
   "execution_count": 5,
   "id": "054011f3",
   "metadata": {},
   "outputs": [
    {
     "name": "stdout",
     "output_type": "stream",
     "text": [
      "[1, 2, 3, 'Four', 5, 'six']\n"
     ]
    }
   ],
   "source": [
    "Lst=[1,2,3,'Four',5,'six']         #List with mixed Data types\n",
    "print(Lst)                         # (having numbers and strings)"
   ]
  },
  {
   "cell_type": "markdown",
   "id": "8e8e24b8",
   "metadata": {},
   "source": [
    "## Array"
   ]
  },
  {
   "cell_type": "code",
   "execution_count": 19,
   "id": "a41d22f1",
   "metadata": {},
   "outputs": [
    {
     "name": "stdout",
     "output_type": "stream",
     "text": [
      "array('i', [1, 2, 3, 4, 5, 6, 7, 8, 9])\n",
      "__________________________________________________\n",
      "1\n",
      "2\n",
      "3\n",
      "4\n",
      "5\n",
      "6\n",
      "7\n",
      "8\n",
      "9\n"
     ]
    }
   ],
   "source": [
    "from array import *                     # importing array module\n",
    "\n",
    "Arr = array('i',[1,2,3,4,5,6,7,8,9])    # array\n",
    "print(Arr)                              # printing values of array\n",
    "\n",
    "print(\"_\"*50)\n",
    "\n",
    "#  OR\n",
    "\n",
    "for i in Arr:\n",
    "    print(i)                            # printing values of array"
   ]
  },
  {
   "cell_type": "markdown",
   "id": "3d39b337",
   "metadata": {},
   "source": [
    "## Tuple"
   ]
  },
  {
   "cell_type": "code",
   "execution_count": 2,
   "id": "a8f3b0b6",
   "metadata": {},
   "outputs": [
    {
     "name": "stdout",
     "output_type": "stream",
     "text": [
      "(1, 2, 3, 5, 4, 'py')\n"
     ]
    }
   ],
   "source": [
    "tup = (1,2,3,5,4,'py')         #tuple\n",
    "print(tup)"
   ]
  },
  {
   "cell_type": "code",
   "execution_count": 4,
   "id": "97e77ba7",
   "metadata": {},
   "outputs": [
    {
     "name": "stdout",
     "output_type": "stream",
     "text": [
      "(1, 2, 'Sample')\n"
     ]
    }
   ],
   "source": [
    "tupSample = 1,2, 'Sample'\n",
    "print(tupSample)"
   ]
  },
  {
   "cell_type": "markdown",
   "id": "b3cfd2c2",
   "metadata": {},
   "source": [
    "## Dictionary"
   ]
  },
  {
   "cell_type": "code",
   "execution_count": 10,
   "id": "9bcd5cb7",
   "metadata": {},
   "outputs": [
    {
     "name": "stdout",
     "output_type": "stream",
     "text": [
      "{1: 'First', 'Second': 2, 3: 3, 'four': '4'}\n"
     ]
    }
   ],
   "source": [
    "Dict = {1:'First','Second':2,3:3,'four':'4'}  # Dictionary\n",
    "print(Dict)"
   ]
  },
  {
   "cell_type": "code",
   "execution_count": 11,
   "id": "b1bbd498",
   "metadata": {},
   "outputs": [
    {
     "name": "stdout",
     "output_type": "stream",
     "text": [
      "{'First': 1, 'Second': 2}\n"
     ]
    }
   ],
   "source": [
    "#Creating Dictionary with 'dict' Keyword\n",
    "Dictt = dict([('First', 1),('Second', 2)])\n",
    "print(Dictt)\n"
   ]
  },
  {
   "cell_type": "markdown",
   "id": "036fe308",
   "metadata": {},
   "source": [
    "## Set"
   ]
  },
  {
   "cell_type": "code",
   "execution_count": 14,
   "id": "51dce40e",
   "metadata": {},
   "outputs": [
    {
     "data": {
      "text/plain": [
       "{'E', 'a', 'e', 'm', 'p', 'x'}"
      ]
     },
     "execution_count": 14,
     "metadata": {},
     "output_type": "execute_result"
    }
   ],
   "source": [
    "SetS = {'Example',24,87.5,24,'Data'}   #Set\n",
    "SetS\n",
    "set('Example')"
   ]
  },
  {
   "cell_type": "code",
   "execution_count": 8,
   "id": "f70b7c9c",
   "metadata": {},
   "outputs": [
    {
     "name": "stdout",
     "output_type": "stream",
     "text": [
      "[1, 2, 'a', 'sam', 2]\n",
      "[2, 'a', 'sam']\n"
     ]
    }
   ],
   "source": [
    "Lst = [1,2,'a','sam',2]\n",
    "print(Lst)\n",
    "print(Lst[1:4])"
   ]
  },
  {
   "cell_type": "markdown",
   "id": "1d5bfd02",
   "metadata": {},
   "source": [
    "## Range"
   ]
  },
  {
   "cell_type": "code",
   "execution_count": 21,
   "id": "b7d20c35",
   "metadata": {},
   "outputs": [
    {
     "name": "stdout",
     "output_type": "stream",
     "text": [
      "range(0, 31, 3)\n",
      "0\n",
      "3\n",
      "6\n",
      "9\n",
      "12\n",
      "15\n",
      "18\n",
      "21\n",
      "24\n",
      "27\n",
      "30\n"
     ]
    }
   ],
   "source": [
    "RangeS = range(0,31,3)         # Builtin Sequence type used for looping\n",
    "\n",
    "print(RangeS)                  # Syntax = range(Start,Stop,StepSize)\n",
    "\n",
    "for x in RangeS:\n",
    "    print(x)"
   ]
  },
  {
   "cell_type": "code",
   "execution_count": null,
   "id": "7e61f224",
   "metadata": {},
   "outputs": [],
   "source": [
    "f"
   ]
  }
 ],
 "metadata": {
  "kernelspec": {
   "display_name": "Python 3 (ipykernel)",
   "language": "python",
   "name": "python3"
  },
  "language_info": {
   "codemirror_mode": {
    "name": "ipython",
    "version": 3
   },
   "file_extension": ".py",
   "mimetype": "text/x-python",
   "name": "python",
   "nbconvert_exporter": "python",
   "pygments_lexer": "ipython3",
   "version": "3.9.12"
  }
 },
 "nbformat": 4,
 "nbformat_minor": 5
}
