{
 "cells": [
  {
   "cell_type": "markdown",
   "id": "96cded0b",
   "metadata": {},
   "source": [
    "# Introduction to NumPy\n",
    "\n",
    "• NumPy is a Python package and it stands for numerical python \n",
    "• Fundamental package for numerical computations in Python\n",
    "\n",
    "•Supports N-dimensional array objects that can be used for processing multidimensional data\n",
    "\n",
    "•Supports different data-types"
   ]
  },
  {
   "cell_type": "markdown",
   "id": "2c624d4a",
   "metadata": {},
   "source": [
    "# Array\n",
    "\n",
    "• An array is a data structure that stores values of same data type\n",
    "\n",
    "•Lists can contain values corresponding to different data types,\n",
    "\n",
    "•Arrays in python can only contain values corresponding to same data type"
   ]
  },
  {
   "cell_type": "markdown",
   "id": "8cdf71e3",
   "metadata": {},
   "source": [
    "# NumPy Array\n",
    "\n",
    "•A numpy array is a grid of values, all of the same type, and is indexed by a tuple of non-negative integers\n",
    "\n",
    "•The number of dimensions is the rank of the array\n",
    "\n",
    "• The shape of an array is a tuple of integers giving the size of the array along each dimension"
   ]
  },
  {
   "cell_type": "markdown",
   "id": "0328c30f",
   "metadata": {},
   "source": [
    "# Creation of Array"
   ]
  },
  {
   "cell_type": "code",
   "execution_count": 1,
   "id": "36dcad61",
   "metadata": {},
   "outputs": [
    {
     "name": "stdout",
     "output_type": "stream",
     "text": [
      "[1, 2, 3, 4, 5, 6]\n"
     ]
    }
   ],
   "source": [
    "my_list = [1,2,3,4,5,6]\n",
    "print(my_list)"
   ]
  },
  {
   "cell_type": "markdown",
   "id": "bd82723c",
   "metadata": {},
   "source": [
    "## To create numpy array we need to import a numpy package:\n"
   ]
  },
  {
   "cell_type": "code",
   "execution_count": 2,
   "id": "20515ea9",
   "metadata": {},
   "outputs": [],
   "source": [
    "import numpy as np"
   ]
  },
  {
   "cell_type": "code",
   "execution_count": 3,
   "id": "9ef6ced1",
   "metadata": {},
   "outputs": [
    {
     "name": "stdout",
     "output_type": "stream",
     "text": [
      "[1 2 3 4 5 6]\n"
     ]
    }
   ],
   "source": [
    "array = np.array(my_list, dtype = int)\n",
    "print(array)"
   ]
  },
  {
   "cell_type": "code",
   "execution_count": 4,
   "id": "83e1f1fd",
   "metadata": {},
   "outputs": [
    {
     "name": "stdout",
     "output_type": "stream",
     "text": [
      "<class 'numpy.ndarray'>\n",
      "6\n",
      "1\n",
      "(6,)\n"
     ]
    }
   ],
   "source": [
    "print(type(array))\n",
    "print(len(array))\n",
    "print(array.ndim)  # number of dimenssion of array\n",
    "print(array.shape) # size along each dimenssion"
   ]
  },
  {
   "cell_type": "code",
   "execution_count": 9,
   "id": "ab83ba33",
   "metadata": {},
   "outputs": [
    {
     "name": "stdout",
     "output_type": "stream",
     "text": [
      "[[1 2]\n",
      " [3 4]\n",
      " [5 6]]\n"
     ]
    },
    {
     "data": {
      "text/plain": [
       "(3, 2)"
      ]
     },
     "execution_count": 9,
     "metadata": {},
     "output_type": "execute_result"
    }
   ],
   "source": [
    "# Changing shape of an array  will reshape it with 3 rows and 2 coloumns\n",
    "array2 = array.reshape(3,2)\n",
    "print(array2)\n",
    "array2.shape"
   ]
  },
  {
   "cell_type": "code",
   "execution_count": 11,
   "id": "e5f2ffd5",
   "metadata": {},
   "outputs": [
    {
     "name": "stdout",
     "output_type": "stream",
     "text": [
      "[[1 2]\n",
      " [3 4]\n",
      " [5 6]]\n",
      "2\n"
     ]
    }
   ],
   "source": [
    "array3 = array.reshape(3,-1)  # 3 rows and 2 coloumns automatically\n",
    "print(array3)\n",
    "\n",
    "print(array3.ndim)           # 2 dimension because rows and coloumn"
   ]
  },
  {
   "cell_type": "code",
   "execution_count": 20,
   "id": "fb6a7b23",
   "metadata": {},
   "outputs": [
    {
     "name": "stdout",
     "output_type": "stream",
     "text": [
      "[[1 2 3 4 5]\n",
      " [2 3 4 6 5]\n",
      " [9 7 6 8 9]]\n",
      "(3, 5)\n"
     ]
    }
   ],
   "source": [
    "## initiallazing numpy array from nested python lists\n",
    "\n",
    "my_list2 = [1,2,3,4,5]\n",
    "my_list3 = [2,3,4,6,5]\n",
    "my_list4 = [9,7,6,8,9]\n",
    "\n",
    "mul_arr = np.array([my_list2, my_list3, my_list4 ]) \n",
    "# here we are passing 3 lists under onelist\n",
    "\n",
    "print(mul_arr) \n",
    "# multidimentional array\n",
    "\n",
    "print(mul_arr.shape)\n"
   ]
  },
  {
   "cell_type": "code",
   "execution_count": 23,
   "id": "ca7e340f",
   "metadata": {},
   "outputs": [
    {
     "data": {
      "text/plain": [
       "array([[1, 2, 3, 4, 5, 2, 3, 4, 6, 5, 9, 7, 6, 8, 9]])"
      ]
     },
     "execution_count": 23,
     "metadata": {},
     "output_type": "execute_result"
    }
   ],
   "source": [
    "mul_arr.reshape(1,15)    # single row and 15 coloumns"
   ]
  },
  {
   "cell_type": "markdown",
   "id": "380e1ce2",
   "metadata": {},
   "source": [
    "# NumPy - Attributes"
   ]
  },
  {
   "cell_type": "code",
   "execution_count": 5,
   "id": "ed95636f",
   "metadata": {},
   "outputs": [
    {
     "name": "stdout",
     "output_type": "stream",
     "text": [
      "(2, 3)\n"
     ]
    }
   ],
   "source": [
    "a = np.array([[1,2,3],[4,5,6]])\n",
    "print(a.shape)"
   ]
  },
  {
   "cell_type": "code",
   "execution_count": 6,
   "id": "c27e9088",
   "metadata": {},
   "outputs": [
    {
     "name": "stdout",
     "output_type": "stream",
     "text": [
      "[[1 2]\n",
      " [3 4]\n",
      " [5 6]]\n"
     ]
    }
   ],
   "source": [
    "# ReShaping Array\n",
    "a.shape = (3,2)\n",
    "print(a)"
   ]
  },
  {
   "cell_type": "code",
   "execution_count": 8,
   "id": "37ca6f1f",
   "metadata": {},
   "outputs": [],
   "source": [
    "r = range(24)"
   ]
  },
  {
   "cell_type": "code",
   "execution_count": 9,
   "id": "ee098e1b",
   "metadata": {},
   "outputs": [
    {
     "name": "stdout",
     "output_type": "stream",
     "text": [
      "range(0, 24)\n"
     ]
    }
   ],
   "source": [
    "print(r)"
   ]
  },
  {
   "cell_type": "code",
   "execution_count": 12,
   "id": "d3789eb1",
   "metadata": {},
   "outputs": [
    {
     "name": "stdout",
     "output_type": "stream",
     "text": [
      "[ 0  1  2  3  4  5  6  7  8  9 10 11 12 13 14 15 16 17 18 19 20 21 22 23]\n",
      "Dinenssion of array is 1\n"
     ]
    }
   ],
   "source": [
    "# an array of evenly spaced numbers\n",
    "a = np.arange(24)\n",
    "print(a)\n",
    "print(\"Dinenssion of array is\",a.ndim)"
   ]
  },
  {
   "cell_type": "code",
   "execution_count": 16,
   "id": "19e68abc",
   "metadata": {},
   "outputs": [
    {
     "name": "stdout",
     "output_type": "stream",
     "text": [
      "[[[ 0]\n",
      "  [ 1]\n",
      "  [ 2]\n",
      "  [ 3]]\n",
      "\n",
      " [[ 4]\n",
      "  [ 5]\n",
      "  [ 6]\n",
      "  [ 7]]\n",
      "\n",
      " [[ 8]\n",
      "  [ 9]\n",
      "  [10]\n",
      "  [11]]\n",
      "\n",
      " [[12]\n",
      "  [13]\n",
      "  [14]\n",
      "  [15]]\n",
      "\n",
      " [[16]\n",
      "  [17]\n",
      "  [18]\n",
      "  [19]]\n",
      "\n",
      " [[20]\n",
      "  [21]\n",
      "  [22]\n",
      "  [23]]]\n"
     ]
    }
   ],
   "source": [
    "#Reshaping the array \"a\"\n",
    "b = a.reshape(6,4,1)\n",
    "print(b)"
   ]
  },
  {
   "cell_type": "markdown",
   "id": "7aa35f4d",
   "metadata": {},
   "source": [
    "## NumPy Arithematic Operations on arrays"
   ]
  },
  {
   "cell_type": "code",
   "execution_count": 20,
   "id": "42d27b9b",
   "metadata": {},
   "outputs": [
    {
     "name": "stdout",
     "output_type": "stream",
     "text": [
      "[[1. 2.]\n",
      " [3. 4.]]\n",
      "[[5. 6.]\n",
      " [7. 8.]]\n"
     ]
    }
   ],
   "source": [
    "x = np.array([[1,2],[3,4]], dtype = np.float64)\n",
    "y = np.array([[5,6],[7,8]], dtype = np.float64)\n",
    "print(x)\n",
    "print(y)\n"
   ]
  },
  {
   "cell_type": "markdown",
   "id": "cb499796",
   "metadata": {},
   "source": [
    "## numpy.add() - performs elementwise addition between 2 arrays"
   ]
  },
  {
   "cell_type": "markdown",
   "id": "7174afb0",
   "metadata": {},
   "source": [
    "syntax : numpy.add(array_1,array_2)"
   ]
  },
  {
   "cell_type": "code",
   "execution_count": 25,
   "id": "b7b5a495",
   "metadata": {},
   "outputs": [
    {
     "name": "stdout",
     "output_type": "stream",
     "text": [
      "[[ 6.  8.]\n",
      " [10. 12.]]\n",
      "--------------------------------------------------------------------------------\n",
      "[[ 6.  8.]\n",
      " [10. 12.]]\n"
     ]
    }
   ],
   "source": [
    "print(x + y)\n",
    "\n",
    "print(\"-\"*80)\n",
    "# OR\n",
    "\n",
    "print(np.add(x,y))"
   ]
  },
  {
   "cell_type": "markdown",
   "id": "8073fda7",
   "metadata": {},
   "source": [
    "## numpy.subtract() - performs elementwise subtraction between 2 arrays"
   ]
  },
  {
   "cell_type": "markdown",
   "id": "3ac1eb73",
   "metadata": {},
   "source": [
    "syntax : numpy.subtract(array_1,array_2)"
   ]
  },
  {
   "cell_type": "code",
   "execution_count": 22,
   "id": "1b4ea15e",
   "metadata": {},
   "outputs": [
    {
     "name": "stdout",
     "output_type": "stream",
     "text": [
      "[[-4. -4.]\n",
      " [-4. -4.]]\n",
      "[[-4. -4.]\n",
      " [-4. -4.]]\n"
     ]
    }
   ],
   "source": [
    "print(x - y)\n",
    "\n",
    "print(\"-\"*80)\n",
    "# OR\n",
    "\n",
    "print(np.subtract(x,y))"
   ]
  },
  {
   "cell_type": "markdown",
   "id": "e1eecf46",
   "metadata": {},
   "source": [
    "## numpy.subtract() - performs elementwise subtraction between 2 arrays"
   ]
  },
  {
   "cell_type": "markdown",
   "id": "9902b276",
   "metadata": {},
   "source": [
    "syntax : numpy.multiply(array_1,array_2)"
   ]
  },
  {
   "cell_type": "code",
   "execution_count": 23,
   "id": "de113f27",
   "metadata": {},
   "outputs": [
    {
     "name": "stdout",
     "output_type": "stream",
     "text": [
      "[[ 5. 12.]\n",
      " [21. 32.]]\n",
      "[[ 5. 12.]\n",
      " [21. 32.]]\n"
     ]
    }
   ],
   "source": [
    "print(x * y)\n",
    "\n",
    "print(\"-\"*80)\n",
    "# OR\n",
    "\n",
    "print(np.multiply(x,y))"
   ]
  },
  {
   "cell_type": "code",
   "execution_count": 27,
   "id": "36e243ea",
   "metadata": {},
   "outputs": [
    {
     "name": "stdout",
     "output_type": "stream",
     "text": [
      "[[19. 22.]\n",
      " [43. 50.]]\n",
      "[[19. 22.]\n",
      " [43. 50.]]\n"
     ]
    }
   ],
   "source": [
    "# for dot product \n",
    "print(x.dot(y))\n",
    "\n",
    "print(\"-\"*80)\n",
    "# OR\n",
    "\n",
    "print(np.dot(x, y))"
   ]
  },
  {
   "cell_type": "code",
   "execution_count": 29,
   "id": "71629c76",
   "metadata": {},
   "outputs": [
    {
     "name": "stdout",
     "output_type": "stream",
     "text": [
      "[[0.2        0.33333333]\n",
      " [0.42857143 0.5       ]]\n",
      "--------------------------------------------------------------------------------\n",
      "[[0.2        0.33333333]\n",
      " [0.42857143 0.5       ]]\n"
     ]
    }
   ],
   "source": [
    "# For division\n",
    "\n",
    "print(x / y)\n",
    "\n",
    "print(\"-\"*80)\n",
    "# OR\n",
    "\n",
    "print(np.divide(x,y))"
   ]
  },
  {
   "cell_type": "code",
   "execution_count": null,
   "id": "1d7b0eb4",
   "metadata": {},
   "outputs": [],
   "source": []
  },
  {
   "cell_type": "markdown",
   "id": "69a76dfc",
   "metadata": {},
   "source": [
    "## numpy.sum() - returns sum of all array elements or sum of all array elements over a given axis"
   ]
  },
  {
   "cell_type": "markdown",
   "id": "4291c5c2",
   "metadata": {},
   "source": [
    "syntax : numpy.sum(array,axis)"
   ]
  },
  {
   "cell_type": "code",
   "execution_count": 37,
   "id": "f93441f7",
   "metadata": {},
   "outputs": [
    {
     "name": "stdout",
     "output_type": "stream",
     "text": [
      "[[1. 2.]\n",
      " [3. 4.]]\n"
     ]
    }
   ],
   "source": [
    "print(x)"
   ]
  },
  {
   "cell_type": "code",
   "execution_count": 38,
   "id": "81202b63",
   "metadata": {},
   "outputs": [
    {
     "name": "stdout",
     "output_type": "stream",
     "text": [
      "10.0\n"
     ]
    }
   ],
   "source": [
    "print(np.sum(x))     # compute overall sum (axis=none)"
   ]
  },
  {
   "cell_type": "code",
   "execution_count": 39,
   "id": "0bb8a43c",
   "metadata": {},
   "outputs": [
    {
     "name": "stdout",
     "output_type": "stream",
     "text": [
      "[4. 6.]\n"
     ]
    }
   ],
   "source": [
    "print(np.sum(x, axis =0))  # compute sum of each column"
   ]
  },
  {
   "cell_type": "code",
   "execution_count": 40,
   "id": "ce3b9c49",
   "metadata": {},
   "outputs": [
    {
     "name": "stdout",
     "output_type": "stream",
     "text": [
      "[3. 7.]\n"
     ]
    }
   ],
   "source": [
    "print(np.sum(x, axis =1))  # compute sum of each row"
   ]
  },
  {
   "cell_type": "code",
   "execution_count": null,
   "id": "dfbe4c2a",
   "metadata": {},
   "outputs": [],
   "source": []
  }
 ],
 "metadata": {
  "kernelspec": {
   "display_name": "Python 3 (ipykernel)",
   "language": "python",
   "name": "python3"
  },
  "language_info": {
   "codemirror_mode": {
    "name": "ipython",
    "version": 3
   },
   "file_extension": ".py",
   "mimetype": "text/x-python",
   "name": "python",
   "nbconvert_exporter": "python",
   "pygments_lexer": "ipython3",
   "version": "3.9.12"
  }
 },
 "nbformat": 4,
 "nbformat_minor": 5
}
