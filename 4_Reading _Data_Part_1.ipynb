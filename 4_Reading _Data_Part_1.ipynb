{
 "cells": [
  {
   "cell_type": "code",
   "execution_count": 1,
   "id": "f1e1135b",
   "metadata": {},
   "outputs": [],
   "source": [
    "# Importing necessary libraries\n",
    "import os                  # For changing Directory\n",
    "import  pandas as pd       # To work with Data Frames \n",
    "import numpy as np         # To perform Numerical Operations"
   ]
  },
  {
   "cell_type": "code",
   "execution_count": 2,
   "id": "a6a3894e",
   "metadata": {},
   "outputs": [],
   "source": [
    "# Importing Data / Reading Data\n",
    "\n",
    "cars_data = pd.read_csv(\"Toyota.csv\",index_col=0)"
   ]
  },
  {
   "cell_type": "code",
   "execution_count": 3,
   "id": "69d20074",
   "metadata": {},
   "outputs": [],
   "source": [
    "# CREATING A DEEPCOPY\n",
    "cars_data1 = cars_data.copy(deep=True)"
   ]
  },
  {
   "cell_type": "code",
   "execution_count": 4,
   "id": "cd4d38ff",
   "metadata": {},
   "outputs": [
    {
     "name": "stdout",
     "output_type": "stream",
     "text": [
      "Int64Index([   0,    1,    2,    3,    4,    5,    6,    7,    8,    9,\n",
      "            ...\n",
      "            1426, 1427, 1428, 1429, 1430, 1431, 1432, 1433, 1434, 1435],\n",
      "           dtype='int64', length=1436)\n"
     ]
    }
   ],
   "source": [
    "# ROW LABELS\n",
    "x = cars_data1.index # WILL GIVE ROW LABELS\n",
    "print(x)\n"
   ]
  },
  {
   "cell_type": "code",
   "execution_count": 5,
   "id": "438caf36",
   "metadata": {},
   "outputs": [
    {
     "name": "stdout",
     "output_type": "stream",
     "text": [
      "Index(['Price', 'Age', 'KM', 'FuelType', 'HP', 'MetColor', 'Automatic', 'CC',\n",
      "       'Doors', 'Weight'],\n",
      "      dtype='object')\n"
     ]
    }
   ],
   "source": [
    "# COLUMN LABELS\n",
    "\n",
    "y = cars_data1.columns # WILL GIVE COLUMN  LABELS\n",
    "print(y)\n"
   ]
  },
  {
   "cell_type": "code",
   "execution_count": 6,
   "id": "841e2c7c",
   "metadata": {},
   "outputs": [
    {
     "name": "stdout",
     "output_type": "stream",
     "text": [
      "14360\n"
     ]
    }
   ],
   "source": [
    "# SIZE OF DATA FRAME \n",
    "z = cars_data1.size\n",
    "print(z)"
   ]
  },
  {
   "cell_type": "code",
   "execution_count": 7,
   "id": "e027aa33",
   "metadata": {},
   "outputs": [
    {
     "name": "stdout",
     "output_type": "stream",
     "text": [
      "----------------------------------SHAPE OF DATA FRAME-------------------------------------------------\n",
      "(1436, 10)\n"
     ]
    }
   ],
   "source": [
    "print(\"----------------------------------SHAPE OF DATA FRAME-------------------------------------------------\")\n",
    "yz = cars_data1.shape\n",
    "print(yz)\n"
   ]
  },
  {
   "cell_type": "code",
   "execution_count": 8,
   "id": "fc8ff893",
   "metadata": {},
   "outputs": [
    {
     "name": "stdout",
     "output_type": "stream",
     "text": [
      "---------------------------------MEMORY USAGE OF EACH COLUMN (IN BYTES)------------------------------------\n",
      "Index        11488\n",
      "Price        11488\n",
      "Age          11488\n",
      "KM           11488\n",
      "FuelType     11488\n",
      "HP           11488\n",
      "MetColor     11488\n",
      "Automatic    11488\n",
      "CC           11488\n",
      "Doors        11488\n",
      "Weight       11488\n",
      "dtype: int64\n"
     ]
    }
   ],
   "source": [
    "print(\"---------------------------------MEMORY USAGE OF EACH COLUMN (IN BYTES)------------------------------------\")\n",
    "A = cars_data1.memory_usage()\n",
    "print(A)"
   ]
  },
  {
   "cell_type": "code",
   "execution_count": 9,
   "id": "31770515",
   "metadata": {},
   "outputs": [
    {
     "name": "stdout",
     "output_type": "stream",
     "text": [
      "---------------------------------NUMBER OF AXES / ARRAY DIMENSIONS---------------------------------------------\n",
      "2\n"
     ]
    }
   ],
   "source": [
    "print(\"---------------------------------NUMBER OF AXES / ARRAY DIMENSIONS---------------------------------------------\")\n",
    "\n",
    "B = cars_data1.ndim\n",
    "print(B)"
   ]
  },
  {
   "cell_type": "code",
   "execution_count": null,
   "id": "ef352835",
   "metadata": {},
   "outputs": [],
   "source": []
  },
  {
   "cell_type": "markdown",
   "id": "3f29aee2",
   "metadata": {},
   "source": [
    "INDEXING OPERATOR"
   ]
  },
  {
   "cell_type": "code",
   "execution_count": 10,
   "id": "1b52225b",
   "metadata": {},
   "outputs": [
    {
     "name": "stdout",
     "output_type": "stream",
     "text": [
      "------------------------------------------HEAD OPERATOR---------------------------------------------------------\n",
      "   Price   Age     KM FuelType  HP  MetColor  Automatic    CC  Doors  Weight\n",
      "0  13500  23.0  46986   Diesel  90       1.0          0  2000  three    1165\n",
      "1  13750  23.0  72937   Diesel  90       1.0          0  2000      3    1165\n",
      "2  13950  24.0  41711   Diesel  90       NaN          0  2000      3    1165\n",
      "3  14950  26.0  48000   Diesel  90       0.0          0  2000      3    1165\n",
      "4  13750  30.0  38500   Diesel  90       0.0          0  2000      3    1170\n"
     ]
    }
   ],
   "source": [
    "print(\"------------------------------------------HEAD OPERATOR---------------------------------------------------------\")\n",
    "\n",
    "C = cars_data1.head()\n",
    "print(C)"
   ]
  },
  {
   "cell_type": "code",
   "execution_count": 11,
   "id": "4d74bd51",
   "metadata": {},
   "outputs": [
    {
     "name": "stdout",
     "output_type": "stream",
     "text": [
      "----------------------------------FIRST 2 HEAD OPERATOR---------------------------------------------------------\n",
      "   Price   Age     KM FuelType  HP  MetColor  Automatic    CC  Doors  Weight\n",
      "0  13500  23.0  46986   Diesel  90       1.0          0  2000  three    1165\n",
      "1  13750  23.0  72937   Diesel  90       1.0          0  2000      3    1165\n"
     ]
    }
   ],
   "source": [
    "print(\"----------------------------------FIRST 2 HEAD OPERATOR---------------------------------------------------------\")\n",
    "\n",
    "D = cars_data1.head(2)\n",
    "print(D)"
   ]
  },
  {
   "cell_type": "code",
   "execution_count": 12,
   "id": "90879fd2",
   "metadata": {},
   "outputs": [
    {
     "name": "stdout",
     "output_type": "stream",
     "text": [
      "----------------------------------TAIL INDEXING OPERATOR--------------------------------------------------------\n",
      "      Price   Age     KM FuelType   HP  MetColor  Automatic    CC Doors  \\\n",
      "1431   7500   NaN  20544   Petrol   86       1.0          0  1300     3   \n",
      "1432  10845  72.0     ??   Petrol   86       0.0          0  1300     3   \n",
      "1433   8500   NaN  17016   Petrol   86       0.0          0  1300     3   \n",
      "1434   7250  70.0     ??      NaN   86       1.0          0  1300     3   \n",
      "1435   6950  76.0      1   Petrol  110       0.0          0  1600     5   \n",
      "\n",
      "      Weight  \n",
      "1431    1025  \n",
      "1432    1015  \n",
      "1433    1015  \n",
      "1434    1015  \n",
      "1435    1114  \n"
     ]
    }
   ],
   "source": [
    "print(\"----------------------------------TAIL INDEXING OPERATOR--------------------------------------------------------\")\n",
    "\n",
    "E = cars_data1.tail()\n",
    "print(E)"
   ]
  },
  {
   "cell_type": "code",
   "execution_count": 13,
   "id": "80b5d93b",
   "metadata": {},
   "outputs": [
    {
     "name": "stdout",
     "output_type": "stream",
     "text": [
      "----------------------------------TO ACESS SCALAR VALUE----------------------------------------------------\n",
      "Diesel\n"
     ]
    }
   ],
   "source": [
    "print(\"----------------------------------TO ACESS SCALAR VALUE----------------------------------------------------\")\n",
    " # at method = row and column name\n",
    "F = cars_data1.at[4,'FuelType']\n",
    "print(F)\n"
   ]
  },
  {
   "cell_type": "code",
   "execution_count": 14,
   "id": "75463f36",
   "metadata": {},
   "outputs": [
    {
     "name": "stdout",
     "output_type": "stream",
     "text": [
      "1.0\n"
     ]
    }
   ],
   "source": [
    "# TO ACESS SCALAR VALUE\n",
    "# iat method = row and column INDEX\n",
    "G = cars_data1.iat[55,5]\n",
    "print(G)"
   ]
  },
  {
   "cell_type": "code",
   "execution_count": 15,
   "id": "4926b797",
   "metadata": {},
   "outputs": [
    {
     "name": "stdout",
     "output_type": "stream",
     "text": [
      "----------------------------------TO ACESS GROUP OF ROWS AND COLUMNS--------------------------------------\n",
      "0       Diesel\n",
      "1       Diesel\n",
      "2       Diesel\n",
      "3       Diesel\n",
      "4       Diesel\n",
      "         ...  \n",
      "1431    Petrol\n",
      "1432    Petrol\n",
      "1433    Petrol\n",
      "1434       NaN\n",
      "1435    Petrol\n",
      "Name: FuelType, Length: 1436, dtype: object\n"
     ]
    }
   ],
   "source": [
    "print(\"----------------------------------TO ACESS GROUP OF ROWS AND COLUMNS--------------------------------------\")\n",
    "\n",
    "H = cars_data1.loc[:,'FuelType']\n",
    "print(H)\n"
   ]
  },
  {
   "cell_type": "code",
   "execution_count": 16,
   "id": "bc55d8fb",
   "metadata": {},
   "outputs": [
    {
     "name": "stdout",
     "output_type": "stream",
     "text": [
      "----------------------------------TO ACESS GROUP OF ROWS AND COLUMNS------------------------------------\n",
      "     FuelType    HP\n",
      "5      Diesel    90\n",
      "6      Diesel  ????\n",
      "7         NaN    90\n",
      "8      Petrol   192\n",
      "9      Diesel  ????\n",
      "...       ...   ...\n",
      "1431   Petrol    86\n",
      "1432   Petrol    86\n",
      "1433   Petrol    86\n",
      "1434      NaN    86\n",
      "1435   Petrol   110\n",
      "\n",
      "[1431 rows x 2 columns]\n"
     ]
    }
   ],
   "source": [
    "print(\"----------------------------------TO ACESS GROUP OF ROWS AND COLUMNS------------------------------------\")\n",
    "\n",
    "H = cars_data1.loc[5:,['FuelType','HP']]\n",
    "print(H)"
   ]
  },
  {
   "cell_type": "code",
   "execution_count": 17,
   "id": "80b56029",
   "metadata": {},
   "outputs": [
    {
     "name": "stdout",
     "output_type": "stream",
     "text": [
      "-------------------------------------CHECKING DATA TYPES------------------------------------------------\n",
      "Price          int64\n",
      "Age          float64\n",
      "KM            object\n",
      "FuelType      object\n",
      "HP            object\n",
      "MetColor     float64\n",
      "Automatic      int64\n",
      "CC             int64\n",
      "Doors         object\n",
      "Weight         int64\n",
      "dtype: object\n"
     ]
    }
   ],
   "source": [
    "print(\"-------------------------------------CHECKING DATA TYPES------------------------------------------------\")\n",
    " \n",
    "I=cars_data1.dtypes\n",
    "print(I)\n"
   ]
  },
  {
   "cell_type": "code",
   "execution_count": 18,
   "id": "2f77a93a",
   "metadata": {},
   "outputs": [
    {
     "name": "stdout",
     "output_type": "stream",
     "text": [
      "-------------------------------------CHECKING UNIQUE DATA TYPES-----------------------------------------\n",
      "int64      4\n",
      "object     4\n",
      "float64    2\n",
      "dtype: int64\n"
     ]
    }
   ],
   "source": [
    "print(\"-------------------------------------CHECKING UNIQUE DATA TYPES-----------------------------------------\")\n",
    " \n",
    "J= cars_data1.dtypes.value_counts()\n",
    "print(J)"
   ]
  },
  {
   "cell_type": "code",
   "execution_count": 19,
   "id": "69997cae",
   "metadata": {},
   "outputs": [
    {
     "name": "stdout",
     "output_type": "stream",
     "text": [
      "-------------------------------------SELECTING DATA BASED ON DATA TYPES-----------------------------------\n",
      "      Price   Age  MetColor  Automatic    CC  Weight\n",
      "0     13500  23.0       1.0          0  2000    1165\n",
      "1     13750  23.0       1.0          0  2000    1165\n",
      "2     13950  24.0       NaN          0  2000    1165\n",
      "3     14950  26.0       0.0          0  2000    1165\n",
      "4     13750  30.0       0.0          0  2000    1170\n",
      "...     ...   ...       ...        ...   ...     ...\n",
      "1431   7500   NaN       1.0          0  1300    1025\n",
      "1432  10845  72.0       0.0          0  1300    1015\n",
      "1433   8500   NaN       0.0          0  1300    1015\n",
      "1434   7250  70.0       1.0          0  1300    1015\n",
      "1435   6950  76.0       0.0          0  1600    1114\n",
      "\n",
      "[1436 rows x 6 columns]\n"
     ]
    }
   ],
   "source": [
    "print(\"-------------------------------------SELECTING DATA BASED ON DATA TYPES-----------------------------------\")\n",
    " # DF.select_dtypes(exclude=None,exclude=None)\n",
    " \n",
    " \n",
    "k= cars_data1.select_dtypes(exclude=[object])\n",
    "print(k)\n"
   ]
  },
  {
   "cell_type": "code",
   "execution_count": 20,
   "id": "60c55abe",
   "metadata": {},
   "outputs": [
    {
     "name": "stdout",
     "output_type": "stream",
     "text": [
      "------------------------------GETTING CONSISE SUMMARY OF DATA FRAMES---------------------------------------\n",
      "<class 'pandas.core.frame.DataFrame'>\n",
      "Int64Index: 1436 entries, 0 to 1435\n",
      "Data columns (total 10 columns):\n",
      " #   Column     Non-Null Count  Dtype  \n",
      "---  ------     --------------  -----  \n",
      " 0   Price      1436 non-null   int64  \n",
      " 1   Age        1336 non-null   float64\n",
      " 2   KM         1436 non-null   object \n",
      " 3   FuelType   1336 non-null   object \n",
      " 4   HP         1436 non-null   object \n",
      " 5   MetColor   1286 non-null   float64\n",
      " 6   Automatic  1436 non-null   int64  \n",
      " 7   CC         1436 non-null   int64  \n",
      " 8   Doors      1436 non-null   object \n",
      " 9   Weight     1436 non-null   int64  \n",
      "dtypes: float64(2), int64(4), object(4)\n",
      "memory usage: 155.7+ KB\n",
      "None\n"
     ]
    }
   ],
   "source": [
    "print(\"------------------------------GETTING CONSISE SUMMARY OF DATA FRAMES---------------------------------------\")\n",
    " \n",
    "L= cars_data1.info()\n",
    "print(L)"
   ]
  },
  {
   "cell_type": "code",
   "execution_count": 21,
   "id": "c3ecae07",
   "metadata": {},
   "outputs": [
    {
     "name": "stdout",
     "output_type": "stream",
     "text": [
      "-------------------------------------CHECKING UNIQUE ELEMENTS OF COLUMN------[for KM]-----------------------------------\n",
      "['1' '10000' '100123' ... '99865' '99971' '??']\n",
      "Because of ?? ,  KM is read as an object instead of int64\n"
     ]
    }
   ],
   "source": [
    "print(\"-------------------------------------CHECKING UNIQUE ELEMENTS OF COLUMN------[for KM]-----------------------------------\")\n",
    " \n",
    "#numpy.unique(array)\n",
    "\n",
    "print(np.unique(cars_data1['KM']))\n",
    "\n",
    "print(\"Because of ?? ,  KM is read as an object instead of int64\")"
   ]
  },
  {
   "cell_type": "code",
   "execution_count": 22,
   "id": "7419f7c2",
   "metadata": {},
   "outputs": [
    {
     "name": "stdout",
     "output_type": "stream",
     "text": [
      "-------------------------------------CHECKING UNIQUE ELEMENTS OF COLUMN------[for HP]-----------------------------------\n",
      "['107' '110' '116' '192' '69' '71' '72' '73' '86' '90' '97' '98' '????']\n",
      "Because of ???? ,  HP is read as an object instead of int64\n"
     ]
    }
   ],
   "source": [
    "print(\"-------------------------------------CHECKING UNIQUE ELEMENTS OF COLUMN------[for HP]-----------------------------------\")\n",
    "\n",
    "print(np.unique(cars_data1['HP']))\n",
    "\n",
    "print(\"Because of ???? ,  HP is read as an object instead of int64\")"
   ]
  },
  {
   "cell_type": "code",
   "execution_count": 23,
   "id": "1ee2678e",
   "metadata": {},
   "outputs": [
    {
     "name": "stdout",
     "output_type": "stream",
     "text": [
      "-------------------------------------CHECKING UNIQUE ELEMENTS OF COLUMN------[for METALIC COLOR]-----------------------\n",
      "[ 0.  1. nan]\n",
      "Because of 0. , 1. ,  MetColor is read as an float64  instead of category\n"
     ]
    }
   ],
   "source": [
    "print(\"-------------------------------------CHECKING UNIQUE ELEMENTS OF COLUMN------[for METALIC COLOR]-----------------------\")\n",
    "\n",
    "print(np.unique(cars_data1['MetColor']))\n",
    "\n",
    "print(\"Because of 0. , 1. ,  MetColor is read as an float64  instead of category\")\n"
   ]
  },
  {
   "cell_type": "code",
   "execution_count": 24,
   "id": "0f6c342e",
   "metadata": {},
   "outputs": [
    {
     "name": "stdout",
     "output_type": "stream",
     "text": [
      "-------------------------------------CHECKING UNIQUE ELEMENTS OF COLUMN------[for DOORs]-----------------------\n",
      "['2' '3' '4' '5' 'five' 'four' 'three']\n",
      "Because of 'five' 'four' 'three' ,DOORs  is read as an object  instead of int\n"
     ]
    }
   ],
   "source": [
    "print(\"-------------------------------------CHECKING UNIQUE ELEMENTS OF COLUMN------[for DOORs]-----------------------\")\n",
    "\n",
    "print(np.unique(cars_data1['Doors']))\n",
    "\n",
    "print(\"Because of 'five' 'four' 'three' ,DOORs  is read as an object  instead of int\")\n",
    "\n",
    "\n"
   ]
  },
  {
   "cell_type": "code",
   "execution_count": null,
   "id": "d548e3d1",
   "metadata": {},
   "outputs": [],
   "source": []
  },
  {
   "cell_type": "code",
   "execution_count": null,
   "id": "8fe84e13",
   "metadata": {},
   "outputs": [],
   "source": []
  },
  {
   "cell_type": "code",
   "execution_count": null,
   "id": "9e487498",
   "metadata": {},
   "outputs": [],
   "source": []
  }
 ],
 "metadata": {
  "kernelspec": {
   "display_name": "Python 3 (ipykernel)",
   "language": "python",
   "name": "python3"
  },
  "language_info": {
   "codemirror_mode": {
    "name": "ipython",
    "version": 3
   },
   "file_extension": ".py",
   "mimetype": "text/x-python",
   "name": "python",
   "nbconvert_exporter": "python",
   "pygments_lexer": "ipython3",
   "version": "3.9.12"
  }
 },
 "nbformat": 4,
 "nbformat_minor": 5
}
