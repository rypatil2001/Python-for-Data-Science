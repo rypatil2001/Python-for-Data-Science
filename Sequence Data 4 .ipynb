{
 "cells": [
  {
   "cell_type": "markdown",
   "id": "f5eab23c",
   "metadata": {},
   "source": [
    "## Sequence DataType Object innitialization"
   ]
  },
  {
   "cell_type": "code",
   "execution_count": 1,
   "id": "824b69ae",
   "metadata": {},
   "outputs": [],
   "source": [
    "Str = \"Learning is fum !\""
   ]
  },
  {
   "cell_type": "code",
   "execution_count": 2,
   "id": "8915ff26",
   "metadata": {},
   "outputs": [],
   "source": [
    "Lst = [1,2,'a','sam',2]"
   ]
  },
  {
   "cell_type": "code",
   "execution_count": 3,
   "id": "4d6c27a0",
   "metadata": {},
   "outputs": [],
   "source": [
    "\n",
    "from array import *"
   ]
  },
  {
   "cell_type": "code",
   "execution_count": 4,
   "id": "80ad3f25",
   "metadata": {},
   "outputs": [],
   "source": [
    "Arr = array('i',[1,2,3,4])"
   ]
  },
  {
   "cell_type": "code",
   "execution_count": 5,
   "id": "20b260d3",
   "metadata": {},
   "outputs": [],
   "source": [
    "Tup = (1,2,3,4,3,'py')"
   ]
  },
  {
   "cell_type": "code",
   "execution_count": 6,
   "id": "9e40adca",
   "metadata": {},
   "outputs": [],
   "source": [
    "Dict = {1:'First','Second':2,3:3,'four':'4'}"
   ]
  },
  {
   "cell_type": "code",
   "execution_count": 7,
   "id": "a012a1aa",
   "metadata": {},
   "outputs": [],
   "source": [
    "SetS = {'Example',24,87.5,24,'Data'}"
   ]
  },
  {
   "cell_type": "code",
   "execution_count": 8,
   "id": "9afe58ea",
   "metadata": {},
   "outputs": [],
   "source": [
    "Keys = (1,'Second',3,'Four')"
   ]
  },
  {
   "cell_type": "code",
   "execution_count": 9,
   "id": "e373f73d",
   "metadata": {},
   "outputs": [
    {
     "name": "stdout",
     "output_type": "stream",
     "text": [
      "1\n",
      "5\n",
      "9\n"
     ]
    }
   ],
   "source": [
    "RangeS = range(1,12,4)\n",
    "for i in RangeS:\n",
    "    print(i)"
   ]
  },
  {
   "cell_type": "markdown",
   "id": "3c8975ee",
   "metadata": {},
   "source": [
    "## len(Object) Returns number of elements in the objects"
   ]
  },
  {
   "cell_type": "code",
   "execution_count": 10,
   "id": "e2c14eac",
   "metadata": {},
   "outputs": [
    {
     "name": "stdout",
     "output_type": "stream",
     "text": [
      "Number of elements in object\n",
      " String =17, List = 5 , Array=4, Tuple=6,Dict=4, Set=4, Range=3\n"
     ]
    }
   ],
   "source": [
    "print(\"Number of elements in object\")\n",
    "print(\" String ={}, List = {} , Array={}, Tuple={},Dict={}, Set={}, Range={}\".format(len(Str), len(Lst), len(Arr), len(Tup), len(Dict), len(SetS), len(RangeS)))"
   ]
  },
  {
   "cell_type": "markdown",
   "id": "e68f7739",
   "metadata": {},
   "source": [
    "## Reverse Method"
   ]
  },
  {
   "cell_type": "code",
   "execution_count": 11,
   "id": "e656d993",
   "metadata": {},
   "outputs": [
    {
     "name": "stdout",
     "output_type": "stream",
     "text": [
      "[2, 'sam', 'a', 2, 1]\n"
     ]
    }
   ],
   "source": [
    "Lst.reverse()\n",
    "print(Lst)"
   ]
  },
  {
   "cell_type": "markdown",
   "id": "3df3fc11",
   "metadata": {},
   "source": [
    "## CLEAR method removes all items from object"
   ]
  },
  {
   "cell_type": "markdown",
   "id": "aefb9479",
   "metadata": {},
   "source": [
    "# Supported sequence Data :  List, Dictionary, Set.\n"
   ]
  },
  {
   "cell_type": "code",
   "execution_count": 12,
   "id": "a8424db7",
   "metadata": {},
   "outputs": [
    {
     "name": "stdout",
     "output_type": "stream",
     "text": [
      "[]\n"
     ]
    }
   ],
   "source": [
    "Lst.clear()\n",
    "print(Lst)"
   ]
  },
  {
   "cell_type": "code",
   "execution_count": 13,
   "id": "8b06bb85",
   "metadata": {},
   "outputs": [
    {
     "name": "stdout",
     "output_type": "stream",
     "text": [
      "{}\n"
     ]
    }
   ],
   "source": [
    "Dict.clear()\n",
    "print(Dict)"
   ]
  },
  {
   "cell_type": "code",
   "execution_count": 14,
   "id": "0f8c78f7",
   "metadata": {},
   "outputs": [
    {
     "name": "stdout",
     "output_type": "stream",
     "text": [
      "set()\n"
     ]
    }
   ],
   "source": [
    "SetS.clear()\n",
    "print(SetS)"
   ]
  },
  {
   "cell_type": "markdown",
   "id": "8009972c",
   "metadata": {},
   "source": [
    "## append() Adds an element at the end of the object"
   ]
  },
  {
   "cell_type": "markdown",
   "id": "dd0451dd",
   "metadata": {},
   "source": [
    "Supported Data Types: Array, List, Set"
   ]
  },
  {
   "cell_type": "code",
   "execution_count": 15,
   "id": "e5a5ffab",
   "metadata": {},
   "outputs": [
    {
     "name": "stdout",
     "output_type": "stream",
     "text": [
      "array('i', [1, 2, 3, 4, 5])\n"
     ]
    }
   ],
   "source": [
    "Arr.append(5)\n",
    "print(Arr)"
   ]
  },
  {
   "cell_type": "code",
   "execution_count": 11,
   "id": "5a02e51f",
   "metadata": {},
   "outputs": [
    {
     "name": "stdout",
     "output_type": "stream",
     "text": [
      "[1, 2, 'a', 'sam', 2, [9, 8, 7]]\n"
     ]
    }
   ],
   "source": [
    "Lst.append([9,8,7])\n",
    "print(Lst)"
   ]
  },
  {
   "cell_type": "code",
   "execution_count": 18,
   "id": "4907e865",
   "metadata": {},
   "outputs": [
    {
     "name": "stdout",
     "output_type": "stream",
     "text": [
      "{'Data', 'Example', 50, 87.5, 24}\n"
     ]
    }
   ],
   "source": [
    "SetS.add(50)  #not sequential  # Dosent support append\n",
    "print(SetS)"
   ]
  },
  {
   "cell_type": "markdown",
   "id": "e4da3d2e",
   "metadata": {},
   "source": [
    "## update() Function in set adds element from a set ( passed as an argument) to the set"
   ]
  },
  {
   "cell_type": "markdown",
   "id": "a41f1cec",
   "metadata": {},
   "source": [
    "-this method takes single argument\n",
    "\n",
    "-argument can be Set, Tuple or a Dectionary\n",
    "\n",
    "-It automatically converts into set and adds to the set"
   ]
  },
  {
   "cell_type": "code",
   "execution_count": 21,
   "id": "a3a2b60e",
   "metadata": {},
   "outputs": [
    {
     "name": "stdout",
     "output_type": "stream",
     "text": [
      "{'Data', 5, 10, 11, 'Example', 50, 87.5, 24}\n"
     ]
    }
   ],
   "source": [
    "SetS.update([5,10,11])\n",
    "print(SetS)"
   ]
  },
  {
   "cell_type": "code",
   "execution_count": 22,
   "id": "3385889f",
   "metadata": {},
   "outputs": [
    {
     "name": "stdout",
     "output_type": "stream",
     "text": [
      "{'Data', 5, 7, 8, 9, 10, 11, 'Example', 50, 87.5, 24}\n"
     ]
    }
   ],
   "source": [
    "SetS.update({9,7,8})\n",
    "print(SetS)"
   ]
  },
  {
   "cell_type": "markdown",
   "id": "c6d0b68c",
   "metadata": {},
   "source": [
    "## Dictionary Menthods "
   ]
  },
  {
   "cell_type": "code",
   "execution_count": 10,
   "id": "4635f7c8",
   "metadata": {},
   "outputs": [
    {
     "name": "stdout",
     "output_type": "stream",
     "text": [
      "{1: 'First', 'Second': 2, 3: 3, 'four': '4'}\n"
     ]
    }
   ],
   "source": [
    "print(Dict)"
   ]
  },
  {
   "cell_type": "code",
   "execution_count": 11,
   "id": "a1e9ae1d",
   "metadata": {},
   "outputs": [
    {
     "name": "stdout",
     "output_type": "stream",
     "text": [
      "{1: 'First', 'Second': 2, 3: 3, 'four': '4', 'Five': 5}\n"
     ]
    }
   ],
   "source": [
    "Dict[\"Five\"] = 5\n",
    "print(Dict)\n"
   ]
  },
  {
   "cell_type": "code",
   "execution_count": 12,
   "id": "421b95e1",
   "metadata": {},
   "outputs": [
    {
     "name": "stdout",
     "output_type": "stream",
     "text": [
      "{1: 'First', 'Second': 2, 3: 3, 'four': '4', 'Five': 5, 'Six': 6}\n"
     ]
    }
   ],
   "source": [
    "Dict.update(Six=6)\n",
    "print(Dict)"
   ]
  },
  {
   "cell_type": "code",
   "execution_count": 13,
   "id": "235b0a32",
   "metadata": {},
   "outputs": [
    {
     "data": {
      "text/plain": [
       "[1, 'Second', 3, 'four', 'Five', 'Six']"
      ]
     },
     "execution_count": 13,
     "metadata": {},
     "output_type": "execute_result"
    }
   ],
   "source": [
    "list(Dict)   #returns a list of all dictionary keys un dict\n"
   ]
  },
  {
   "cell_type": "code",
   "execution_count": 14,
   "id": "fa5c6ed1",
   "metadata": {},
   "outputs": [
    {
     "data": {
      "text/plain": [
       "6"
      ]
     },
     "execution_count": 14,
     "metadata": {},
     "output_type": "execute_result"
    }
   ],
   "source": [
    "len(Dict)     #Rrturns number of items in dict"
   ]
  },
  {
   "cell_type": "code",
   "execution_count": 15,
   "id": "3225725d",
   "metadata": {},
   "outputs": [
    {
     "data": {
      "text/plain": [
       "5"
      ]
     },
     "execution_count": 15,
     "metadata": {},
     "output_type": "execute_result"
    }
   ],
   "source": [
    "Dict.get(\"Five\")     # method to acess value of a key"
   ]
  },
  {
   "cell_type": "code",
   "execution_count": 16,
   "id": "9b31afe7",
   "metadata": {},
   "outputs": [
    {
     "data": {
      "text/plain": [
       "dict_keys([1, 'Second', 3, 'four', 'Five', 'Six'])"
      ]
     },
     "execution_count": 16,
     "metadata": {},
     "output_type": "execute_result"
    }
   ],
   "source": [
    "Dict.keys()      # Returns keys "
   ]
  },
  {
   "cell_type": "code",
   "execution_count": 18,
   "id": "9229e404",
   "metadata": {},
   "outputs": [
    {
     "data": {
      "text/plain": [
       "dict_items([(1, 'First'), ('Second', 2), (3, 3), ('four', '4'), ('Five', 5), ('Six', 6)])"
      ]
     },
     "execution_count": 18,
     "metadata": {},
     "output_type": "execute_result"
    }
   ],
   "source": [
    "Dict.items()    # retuns a list of (key, value) Tuple pair"
   ]
  },
  {
   "cell_type": "markdown",
   "id": "4c3e4ae0",
   "metadata": {},
   "source": [
    "## insert() - inserts element at specific index of an object"
   ]
  },
  {
   "cell_type": "markdown",
   "id": "88cf87ad",
   "metadata": {},
   "source": [
    "supported DataTypes : Array,  List"
   ]
  },
  {
   "cell_type": "code",
   "execution_count": 10,
   "id": "fc4e0d14",
   "metadata": {},
   "outputs": [
    {
     "name": "stdout",
     "output_type": "stream",
     "text": [
      "array('i', [1, 2, 3, 4])\n"
     ]
    }
   ],
   "source": [
    "print(Arr)"
   ]
  },
  {
   "cell_type": "code",
   "execution_count": 11,
   "id": "4a676481",
   "metadata": {},
   "outputs": [
    {
     "name": "stdout",
     "output_type": "stream",
     "text": [
      "array('i', [0, 1, 2, 3, 4])\n"
     ]
    }
   ],
   "source": [
    "Arr.insert(0,0)\n",
    "print(Arr)"
   ]
  },
  {
   "cell_type": "code",
   "execution_count": 12,
   "id": "1b095be4",
   "metadata": {},
   "outputs": [
    {
     "name": "stdout",
     "output_type": "stream",
     "text": [
      "array('i', [0, 1, 2, 3, 4, 5])\n"
     ]
    }
   ],
   "source": [
    "Arr.insert(5,5)\n",
    "print(Arr)"
   ]
  },
  {
   "cell_type": "code",
   "execution_count": 13,
   "id": "0fcde180",
   "metadata": {},
   "outputs": [
    {
     "name": "stdout",
     "output_type": "stream",
     "text": [
      "[1, 2, 'a', 'sam', 2, 24]\n"
     ]
    }
   ],
   "source": [
    "Lst.insert(5,24)\n",
    "print(Lst)"
   ]
  },
  {
   "cell_type": "markdown",
   "id": "bd2dcdb8",
   "metadata": {},
   "source": [
    "## pop - removes the element at given INDEX from object and prints thr same"
   ]
  },
  {
   "cell_type": "markdown",
   "id": "43fe52dd",
   "metadata": {},
   "source": [
    "-Default value is -1, which returns the last item\n",
    "\n",
    "-Supported DataTypes : Array, List, Dict\n"
   ]
  },
  {
   "cell_type": "code",
   "execution_count": 10,
   "id": "25258931",
   "metadata": {},
   "outputs": [
    {
     "data": {
      "text/plain": [
       "4"
      ]
     },
     "execution_count": 10,
     "metadata": {},
     "output_type": "execute_result"
    }
   ],
   "source": [
    "Arr.pop()          #Deleting the last element and prints the same"
   ]
  },
  {
   "cell_type": "code",
   "execution_count": 11,
   "id": "c644e10e",
   "metadata": {},
   "outputs": [
    {
     "name": "stdout",
     "output_type": "stream",
     "text": [
      "[1, 2, 'a', 'sam', 2]\n"
     ]
    }
   ],
   "source": [
    "print(Lst)\n"
   ]
  },
  {
   "cell_type": "code",
   "execution_count": 12,
   "id": "72a6d37b",
   "metadata": {},
   "outputs": [
    {
     "name": "stdout",
     "output_type": "stream",
     "text": [
      "[1, 2, 'a', 2]\n"
     ]
    }
   ],
   "source": [
    "Lst.pop(3)\n",
    "print(Lst)"
   ]
  },
  {
   "cell_type": "code",
   "execution_count": 13,
   "id": "bcec4917",
   "metadata": {},
   "outputs": [
    {
     "name": "stdout",
     "output_type": "stream",
     "text": [
      "{1: 'First', 'Second': 2, 3: 3, 'four': '4'}\n"
     ]
    }
   ],
   "source": [
    "print(Dict)\n"
   ]
  },
  {
   "cell_type": "code",
   "execution_count": 14,
   "id": "436d606a",
   "metadata": {},
   "outputs": [
    {
     "data": {
      "text/plain": [
       "2"
      ]
     },
     "execution_count": 14,
     "metadata": {},
     "output_type": "execute_result"
    }
   ],
   "source": [
    "Dict.pop('Second')"
   ]
  },
  {
   "cell_type": "code",
   "execution_count": 15,
   "id": "9be68cdd",
   "metadata": {},
   "outputs": [
    {
     "name": "stdout",
     "output_type": "stream",
     "text": [
      "{1: 'First', 3: 3, 'four': '4'}\n"
     ]
    }
   ],
   "source": [
    "print(Dict)"
   ]
  },
  {
   "cell_type": "markdown",
   "id": "ba9cf6d8",
   "metadata": {},
   "source": [
    "## remove method removes FIRST OCCURRENCE of the element with the specified value"
   ]
  },
  {
   "cell_type": "markdown",
   "id": "c59da5d3",
   "metadata": {},
   "source": [
    "DataTypes Supported : ARRAY , LIST , DICTIONARY , SET"
   ]
  },
  {
   "cell_type": "code",
   "execution_count": 16,
   "id": "6c0af226",
   "metadata": {},
   "outputs": [
    {
     "name": "stdout",
     "output_type": "stream",
     "text": [
      "array('i', [1, 2, 3])\n"
     ]
    }
   ],
   "source": [
    "print(Arr)"
   ]
  },
  {
   "cell_type": "code",
   "execution_count": 18,
   "id": "1f5a773d",
   "metadata": {},
   "outputs": [
    {
     "ename": "ValueError",
     "evalue": "array.remove(x): x not in array",
     "output_type": "error",
     "traceback": [
      "\u001b[1;31m---------------------------------------------------------------------------\u001b[0m",
      "\u001b[1;31mValueError\u001b[0m                                Traceback (most recent call last)",
      "Input \u001b[1;32mIn [18]\u001b[0m, in \u001b[0;36m<cell line: 1>\u001b[1;34m()\u001b[0m\n\u001b[1;32m----> 1\u001b[0m \u001b[43mArr\u001b[49m\u001b[38;5;241;43m.\u001b[39;49m\u001b[43mremove\u001b[49m\u001b[43m(\u001b[49m\u001b[38;5;241;43m0\u001b[39;49m\u001b[43m)\u001b[49m\n",
      "\u001b[1;31mValueError\u001b[0m: array.remove(x): x not in array"
     ]
    }
   ],
   "source": [
    "Arr.remove(0)     # Error because 0is not present in array"
   ]
  },
  {
   "cell_type": "code",
   "execution_count": 19,
   "id": "5c721cbc",
   "metadata": {},
   "outputs": [],
   "source": [
    "Arr.remove(2)"
   ]
  },
  {
   "cell_type": "code",
   "execution_count": 20,
   "id": "1552a516",
   "metadata": {},
   "outputs": [
    {
     "name": "stdout",
     "output_type": "stream",
     "text": [
      "array('i', [1, 3])\n"
     ]
    }
   ],
   "source": [
    "print(Arr)"
   ]
  },
  {
   "cell_type": "code",
   "execution_count": 21,
   "id": "d32d13a8",
   "metadata": {},
   "outputs": [
    {
     "name": "stdout",
     "output_type": "stream",
     "text": [
      "{24, 'Data', 87.5, 'Example'}\n"
     ]
    }
   ],
   "source": [
    "print(SetS)"
   ]
  },
  {
   "cell_type": "code",
   "execution_count": 22,
   "id": "4cc98eb6",
   "metadata": {},
   "outputs": [],
   "source": [
    "SetS.remove('Data')"
   ]
  },
  {
   "cell_type": "code",
   "execution_count": 23,
   "id": "fce3ed85",
   "metadata": {},
   "outputs": [
    {
     "name": "stdout",
     "output_type": "stream",
     "text": [
      "{24, 87.5, 'Example'}\n"
     ]
    }
   ],
   "source": [
    "print(SetS)"
   ]
  },
  {
   "cell_type": "code",
   "execution_count": 24,
   "id": "6585cd47",
   "metadata": {},
   "outputs": [],
   "source": [
    "SetS.discard(24)\n"
   ]
  },
  {
   "cell_type": "code",
   "execution_count": 25,
   "id": "42140f48",
   "metadata": {},
   "outputs": [
    {
     "name": "stdout",
     "output_type": "stream",
     "text": [
      "{87.5, 'Example'}\n"
     ]
    }
   ],
   "source": [
    "print(SetS)"
   ]
  },
  {
   "cell_type": "code",
   "execution_count": 26,
   "id": "8d3d12f7",
   "metadata": {},
   "outputs": [],
   "source": [
    "SetS.discard(25)"
   ]
  },
  {
   "cell_type": "code",
   "execution_count": 27,
   "id": "1452646d",
   "metadata": {},
   "outputs": [
    {
     "name": "stdout",
     "output_type": "stream",
     "text": [
      "{87.5, 'Example'}\n"
     ]
    }
   ],
   "source": [
    "print(SetS)"
   ]
  },
  {
   "cell_type": "markdown",
   "id": "f631007c",
   "metadata": {},
   "source": []
  },
  {
   "cell_type": "markdown",
   "id": "0dd6bd34",
   "metadata": {},
   "source": [
    "## del : Deletes the entire object of any DataType"
   ]
  },
  {
   "cell_type": "markdown",
   "id": "ecb5b1dd",
   "metadata": {},
   "source": [
    "-Syntax : del obj_Name\n",
    "\n",
    "-del is python keyword\n",
    "\n",
    "-obj_name can be variables , userdefined objects, lists , items within lists, dictionaries etc."
   ]
  },
  {
   "cell_type": "code",
   "execution_count": 10,
   "id": "8e182234",
   "metadata": {},
   "outputs": [
    {
     "name": "stdout",
     "output_type": "stream",
     "text": [
      "{24, 'Data', 'Example', 87.5}\n"
     ]
    }
   ],
   "source": [
    "print(SetS)"
   ]
  },
  {
   "cell_type": "code",
   "execution_count": 11,
   "id": "3aa0e009",
   "metadata": {},
   "outputs": [
    {
     "ename": "NameError",
     "evalue": "name 'SetS' is not defined",
     "output_type": "error",
     "traceback": [
      "\u001b[1;31m---------------------------------------------------------------------------\u001b[0m",
      "\u001b[1;31mNameError\u001b[0m                                 Traceback (most recent call last)",
      "Input \u001b[1;32mIn [11]\u001b[0m, in \u001b[0;36m<cell line: 2>\u001b[1;34m()\u001b[0m\n\u001b[0;32m      1\u001b[0m \u001b[38;5;28;01mdel\u001b[39;00m SetS\n\u001b[1;32m----> 2\u001b[0m \u001b[38;5;28mprint\u001b[39m(\u001b[43mSetS\u001b[49m)\n",
      "\u001b[1;31mNameError\u001b[0m: name 'SetS' is not defined"
     ]
    }
   ],
   "source": [
    "del SetS\n",
    "print(SetS)          #NameError: name 'SetS' is not defined\n"
   ]
  },
  {
   "cell_type": "code",
   "execution_count": 12,
   "id": "b275de6f",
   "metadata": {},
   "outputs": [
    {
     "name": "stdout",
     "output_type": "stream",
     "text": [
      "array('i', [1, 2, 3, 4])\n"
     ]
    }
   ],
   "source": [
    "print(Arr)"
   ]
  },
  {
   "cell_type": "code",
   "execution_count": 13,
   "id": "1bb43cf5",
   "metadata": {},
   "outputs": [
    {
     "ename": "NameError",
     "evalue": "name 'Arr' is not defined",
     "output_type": "error",
     "traceback": [
      "\u001b[1;31m---------------------------------------------------------------------------\u001b[0m",
      "\u001b[1;31mNameError\u001b[0m                                 Traceback (most recent call last)",
      "Input \u001b[1;32mIn [13]\u001b[0m, in \u001b[0;36m<cell line: 2>\u001b[1;34m()\u001b[0m\n\u001b[0;32m      1\u001b[0m \u001b[38;5;28;01mdel\u001b[39;00m Arr\n\u001b[1;32m----> 2\u001b[0m \u001b[38;5;28mprint\u001b[39m(\u001b[43mArr\u001b[49m)\n",
      "\u001b[1;31mNameError\u001b[0m: name 'Arr' is not defined"
     ]
    }
   ],
   "source": [
    "del Arr\n",
    "print(Arr)"
   ]
  },
  {
   "cell_type": "code",
   "execution_count": 10,
   "id": "04899404",
   "metadata": {},
   "outputs": [
    {
     "name": "stdout",
     "output_type": "stream",
     "text": [
      "[1, 2, 'a', 'sam', 2]\n"
     ]
    }
   ],
   "source": [
    "print(Lst)"
   ]
  },
  {
   "cell_type": "code",
   "execution_count": 11,
   "id": "8fc2b472",
   "metadata": {},
   "outputs": [],
   "source": [
    "del Lst[1:3]"
   ]
  },
  {
   "cell_type": "code",
   "execution_count": 13,
   "id": "8ea78214",
   "metadata": {},
   "outputs": [
    {
     "name": "stdout",
     "output_type": "stream",
     "text": [
      "[1, 'sam', 2]\n"
     ]
    }
   ],
   "source": [
    "print(Lst)"
   ]
  },
  {
   "cell_type": "code",
   "execution_count": 14,
   "id": "b0050191",
   "metadata": {},
   "outputs": [
    {
     "name": "stdout",
     "output_type": "stream",
     "text": [
      "[1, 2]\n"
     ]
    }
   ],
   "source": [
    "del Lst[1]\n",
    "print(Lst)"
   ]
  },
  {
   "cell_type": "markdown",
   "id": "87880712",
   "metadata": {},
   "source": [
    "# The extend() method adds the specified list of elements(or any iterable - list, set, tuple, etc) to the end of the current list"
   ]
  },
  {
   "cell_type": "markdown",
   "id": "fb776c0b",
   "metadata": {},
   "source": [
    "## Array Operation"
   ]
  },
  {
   "cell_type": "code",
   "execution_count": 1,
   "id": "d1020bda",
   "metadata": {},
   "outputs": [
    {
     "name": "stdout",
     "output_type": "stream",
     "text": [
      "array('i', [1, 2, 3, 4])\n"
     ]
    }
   ],
   "source": [
    "from array import *\n",
    "ArrS= array('i',[1,2,3,4])\n",
    "print(ArrS)"
   ]
  },
  {
   "cell_type": "code",
   "execution_count": 2,
   "id": "d411addd",
   "metadata": {},
   "outputs": [
    {
     "name": "stdout",
     "output_type": "stream",
     "text": [
      "array('i', [1, 2, 3, 4, 5, 6, 8, 9])\n"
     ]
    }
   ],
   "source": [
    "ArrS.extend((5,6,8,9))\n",
    "print(ArrS)"
   ]
  },
  {
   "cell_type": "code",
   "execution_count": 3,
   "id": "1a00e472",
   "metadata": {},
   "outputs": [
    {
     "name": "stdout",
     "output_type": "stream",
     "text": [
      "array('i', [1, 2, 3, 4, 5, 6, 8, 9, 3, 4])\n"
     ]
    },
    {
     "data": {
      "text/plain": [
       "[1, 2, 3, 4, 5, 6, 8, 9, 3, 4]"
      ]
     },
     "execution_count": 3,
     "metadata": {},
     "output_type": "execute_result"
    }
   ],
   "source": [
    "ArrS.fromlist([3, 4])  #add values 3 ,4 from list to array\n",
    "print(ArrS)\n",
    "\n",
    "ArrS.tolist()          #convert array to list with same items"
   ]
  },
  {
   "cell_type": "code",
   "execution_count": null,
   "id": "c2d9684b",
   "metadata": {},
   "outputs": [],
   "source": []
  },
  {
   "cell_type": "markdown",
   "id": "5d4a8141",
   "metadata": {},
   "source": [
    "# Set Operation"
   ]
  },
  {
   "cell_type": "markdown",
   "id": "7e5d63e2",
   "metadata": {},
   "source": [
    "# setSample "
   ]
  },
  {
   "cell_type": "markdown",
   "id": "6182cacb",
   "metadata": {},
   "source": [
    "- A setis an unordered collection of items \n",
    "\n",
    "    -Every Element is unique (No Duplicates)\n",
    "    -Sets can be used to perform mathematical set opperatios like unionn Intersection, Symetric difference, Etc"
   ]
  },
  {
   "cell_type": "code",
   "execution_count": 5,
   "id": "35c864a1",
   "metadata": {},
   "outputs": [
    {
     "name": "stdout",
     "output_type": "stream",
     "text": [
      "{'Example', 24, 'Data', 87.5}\n"
     ]
    }
   ],
   "source": [
    "A = {'Example',24,87.5,'Data',24,'Data'}    # Set of mixed Data Types\n",
    "print(A)"
   ]
  },
  {
   "cell_type": "code",
   "execution_count": 6,
   "id": "365239b9",
   "metadata": {},
   "outputs": [
    {
     "name": "stdout",
     "output_type": "stream",
     "text": [
      "{24, 87.5}\n"
     ]
    }
   ],
   "source": [
    "B = {24, 87.5}                       # set of integers\n",
    "print(B)"
   ]
  },
  {
   "cell_type": "code",
   "execution_count": 7,
   "id": "837c0ad4",
   "metadata": {},
   "outputs": [
    {
     "name": "stdout",
     "output_type": "stream",
     "text": [
      "{'Example', 'Data', 87.5, 24}\n"
     ]
    },
    {
     "data": {
      "text/plain": [
       "{24, 87.5, 'Data', 'Example'}"
      ]
     },
     "execution_count": 7,
     "metadata": {},
     "output_type": "execute_result"
    }
   ],
   "source": [
    "print( A | B)     # union of A and B is Set of all elements from both sets\n",
    "A.union(B)        # using union() on B"
   ]
  },
  {
   "cell_type": "code",
   "execution_count": 8,
   "id": "de46a233",
   "metadata": {},
   "outputs": [
    {
     "name": "stdout",
     "output_type": "stream",
     "text": [
      "{24, 87.5}\n"
     ]
    },
    {
     "data": {
      "text/plain": [
       "{24, 87.5}"
      ]
     },
     "execution_count": 8,
     "metadata": {},
     "output_type": "execute_result"
    }
   ],
   "source": [
    "print(A & B)      # Intersection of A and B is a set of elements that are common in both set\n",
    "A.intersection(B) # using  intersection() on B"
   ]
  },
  {
   "cell_type": "markdown",
   "id": "b02b6736",
   "metadata": {},
   "source": [
    "# END OF SCRIPT"
   ]
  },
  {
   "cell_type": "code",
   "execution_count": null,
   "id": "c4df16a7",
   "metadata": {},
   "outputs": [],
   "source": []
  }
 ],
 "metadata": {
  "kernelspec": {
   "display_name": "Python 3 (ipykernel)",
   "language": "python",
   "name": "python3"
  },
  "language_info": {
   "codemirror_mode": {
    "name": "ipython",
    "version": 3
   },
   "file_extension": ".py",
   "mimetype": "text/x-python",
   "name": "python",
   "nbconvert_exporter": "python",
   "pygments_lexer": "ipython3",
   "version": "3.9.12"
  }
 },
 "nbformat": 4,
 "nbformat_minor": 5
}
